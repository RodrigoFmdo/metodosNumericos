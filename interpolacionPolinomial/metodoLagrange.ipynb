{
 "cells": [
  {
   "cell_type": "code",
   "execution_count": null,
   "metadata": {},
   "outputs": [],
   "source": [
    "import sympy as sp"
   ]
  },
  {
   "cell_type": "code",
   "execution_count": null,
   "metadata": {},
   "outputs": [],
   "source": [
    "#funcion input que recibe los valores de x_i , f(x_i)\n",
    "def readInput(i):\n",
    "    userInput = input(f\"Ingresa x_{i}\")\n",
    "    x_i = userInput\n",
    "    userInput2 = input(f\"Ingresa f(x_{i})\")\n",
    "    fx_i = userInput2\n",
    "\n",
    "    return x_i, fx_i    "
   ]
  },
  {
   "cell_type": "code",
   "execution_count": null,
   "metadata": {},
   "outputs": [],
   "source": [
    "def interpolacion(xvector):\n",
    "\n",
    "    x = sp.symbols('x')\n",
    "    lvector =[]\n",
    "    \n",
    "    for i in range(len(xvector)):\n",
    "        l_i = 1\n",
    "        for j in range(len(xvector)):\n",
    "            if j != i:\n",
    "                l_i *= (x-xvector[j]) / (xvector[i]-xvector[j]) \n",
    "        lvector.append(l_i)    \n",
    "    return lvector "
   ]
  },
  {
   "cell_type": "code",
   "execution_count": null,
   "metadata": {},
   "outputs": [],
   "source": [
    "def polinomio(lvector, fxvector):\n",
    "    P_x = 0 \n",
    "    for i in range(len(fxvector)):\n",
    "        P_x += lvector[i] * fxvector[i]\n",
    "        \n",
    "    return P_x"
   ]
  },
  {
   "cell_type": "code",
   "execution_count": null,
   "metadata": {},
   "outputs": [],
   "source": [
    "#main\n",
    "xvector =[]\n",
    "fxvector = []\n",
    "\n",
    "for i in range(100000):\n",
    "    strx_i, strfx_i = readInput(i+1)\n",
    "    if (strx_i or strfx_i) ==\"e\":\n",
    "        break    \n",
    "    xvector.append(strx_i)\n",
    "    fxvector.append(strfx_i)\n",
    "\n",
    "#parsing xvector a sympy\n",
    "sympyxvector = [] \n",
    "for strx_i in xvector:\n",
    "    x_i = sp.sympify(strx_i)\n",
    "    sympyxvector.append(x_i)\n",
    "\n",
    "sympyfxvector = [] \n",
    "for strfx_i in fxvector:\n",
    "    fx_i = sp.sympify(strfx_i)\n",
    "    sympyfxvector.append(fx_i)\n",
    "\n",
    "\n",
    "lvector = interpolacion(sympyxvector)\n",
    "P_x = polinomio(lvector, sympyfxvector)\n",
    "\n",
    "print(f\"Polinomio de Interpolacion: {P_x}\")"
   ]
  }
 ],
 "metadata": {
  "kernelspec": {
   "display_name": "Python 3.11.5 ('metodosNumericos')",
   "language": "python",
   "name": "python3"
  },
  "language_info": {
   "codemirror_mode": {
    "name": "ipython",
    "version": 3
   },
   "file_extension": ".py",
   "mimetype": "text/x-python",
   "name": "python",
   "nbconvert_exporter": "python",
   "pygments_lexer": "ipython3",
   "version": "3.11.5"
  },
  "orig_nbformat": 4,
  "vscode": {
   "interpreter": {
    "hash": "70f21157dfb9bdb93b9a56176df5ae554353c3dbbb1f00dc09d3a373f9b6b7f9"
   }
  }
 },
 "nbformat": 4,
 "nbformat_minor": 2
}
