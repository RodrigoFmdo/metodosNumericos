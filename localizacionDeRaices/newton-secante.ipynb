{
 "cells": [
  {
   "cell_type": "code",
   "execution_count": null,
   "metadata": {},
   "outputs": [],
   "source": [
    "import sympy as sp"
   ]
  },
  {
   "cell_type": "code",
   "execution_count": null,
   "metadata": {},
   "outputs": [],
   "source": [
    "'''Menú 1 \n",
    "    Muestra el menú y pide al usuario teclear 1 o 2 \n",
    "    Devuelve 1 para resolver por metodo de newton \n",
    "    Devuelve 2 para resolver por metodo de la secante\n",
    "'''\n",
    "def menu1():\n",
    " \n",
    "    print(\"ingrese 1 para metodo de Newton\")\n",
    "    print(\"ingrese 2 para metodo de la secante \\n\")\n",
    "\n",
    "    try:\n",
    "        userInput = int(input())\n",
    "    except ValueError:\n",
    "        print(\"ERROR: Debes ingresar un número\") \n",
    "        menu1()\n",
    "\n",
    "    if userInput == 1 or userInput == 2:\n",
    "        return userInput\n",
    "    else:\n",
    "        print(\"ERROR: Debes ingresar sólo 1 ó 2\")\n",
    "        menu1() "
   ]
  },
  {
   "cell_type": "code",
   "execution_count": null,
   "metadata": {},
   "outputs": [],
   "source": [
    "'''Menu Newton \n",
    "    Pide al usuario elegir entre ejemplos preconfigurados \n",
    "    o ingresar los parametros(funcion, aproximacion, iteraciones)\n",
    "'''\n",
    "def menuNewton():\n",
    "    print(\"ingrese 1 para utilizar un ejemplo \")\n",
    "    print(\"ingrese 2 para dar ingresar uno propio \\n\")\n",
    "\n",
    "    try:\n",
    "        userInput = int(input())\n",
    "    except ValueError:\n",
    "        print(\"ERROR: Debes ingresar un número\") \n",
    "        menu1()\n",
    "\n",
    "    if userInput == 1 or userInput == 2:\n",
    "        return userInput\n",
    "    else:\n",
    "        print(\"ERROR: Debes ingresar sólo 1 ó 2\")\n",
    "        menu1() \n"
   ]
  },
  {
   "cell_type": "code",
   "execution_count": null,
   "metadata": {},
   "outputs": [],
   "source": [
    "'''Menu Secante\n",
    "    Pide al usuario elegir entre ejemplos preconfigurados \n",
    "    o ingresar los parametros (funcion, aproximacion 1, aproximación 2, iteraciones)\n",
    "'''\n",
    "def menuSecante():\n",
    "    print(\"ingrese 1 para utilizar un ejemplo \")\n",
    "    print(\"ingrese 2 para dar ingresar uno propio \\n\")\n",
    "\n",
    "    try:\n",
    "        userInput = int(input())\n",
    "    except ValueError:\n",
    "        print(\"ERROR: Debes ingresar un número\") \n",
    "        menu1()\n",
    "\n",
    "    if userInput == 1 or userInput == 2:\n",
    "        return userInput\n",
    "    else:\n",
    "        print(\"ERROR: Debes ingresar sólo 1 ó 2\")\n",
    "        menu1() \n"
   ]
  },
  {
   "cell_type": "code",
   "execution_count": null,
   "metadata": {},
   "outputs": [],
   "source": [
    "'''Menu Ejemplos Newton\n",
    "    Muestra ejemplos y te permite elegir uno \n",
    "'''\n",
    "def menuEjemplosNewton():\n",
    "    Ejemplos = ['(x**2)-2,2,50','x**2,3,30']\n",
    "    for i in range(len(Ejemplos)):\n",
    "        print(f\"Ingrese {i} para usar el Ejemplo {Ejemplos[i]} \")   \n",
    "    \n",
    "    try:\n",
    "        userInput = int(input())\n",
    "    except ValueError:\n",
    "        print(\"ERROR: Debes ingresar un número\") \n",
    "        menu1()\n",
    " \n",
    "    return Ejemplos[userInput] "
   ]
  },
  {
   "cell_type": "code",
   "execution_count": null,
   "metadata": {},
   "outputs": [],
   "source": [
    "'''Menu Ejemplos Secante \n",
    "    Muestra ejemplos y te permite elegir uno \n",
    "'''\n",
    "def menuEjemplosSecante():\n",
    "    Ejemplos = ['(x**2)-2,1,2,50','x**2,3,4,30']\n",
    "    for i in range(len(Ejemplos)):\n",
    "        print(f\"Ingrese {i} para usar el Ejemplo {Ejemplos[i]} \")   \n",
    "    \n",
    "    try:\n",
    "        userInput = int(input())\n",
    "    except ValueError:\n",
    "        print(\"ERROR: Debes ingresar un número\") \n",
    "        menu1()\n",
    " \n",
    "    return Ejemplos[userInput] "
   ]
  },
  {
   "cell_type": "code",
   "execution_count": null,
   "metadata": {},
   "outputs": [],
   "source": [
    "##aquí se podría implementar manejo de excepciones\n",
    "'''Menu Ejemplo propio Newton \n",
    "    Te dice los parametros que debes ingresar para el metodo Newton y devuelve lo que ingreses en forma de string\n",
    "'''\n",
    "def menuEjemploPropioNewton():\n",
    "     srtUserInput = input(\"da la funcion, aproximacion,  y numero de iteraciones separadas por comas \\n\")\n",
    "\n",
    "     return srtUserInput"
   ]
  },
  {
   "cell_type": "code",
   "execution_count": null,
   "metadata": {},
   "outputs": [],
   "source": [
    "##aquí se podría implementar manejo de excepciones\n",
    "'''Menu Ejemplo propio Secante\n",
    "    Te dice los parametros que debes ingresar para el metodo Secante y devuelve lo que ingreses en forma de string\n",
    "'''\n",
    "def menuEjemploPropioSecante():\n",
    "     srtUserInput = input(\"da la funcion, aproximacion 1 , aproximacion 2, y numero de iteraciones separado por comas \\n\")\n",
    "\n",
    "     return srtUserInput"
   ]
  },
  {
   "cell_type": "code",
   "execution_count": null,
   "metadata": {},
   "outputs": [],
   "source": [
    "'''Método de Newton\n",
    "    Recibe un string que es la función, una aproximacion que es un entero, un numero de iteraciones que es un entero\n",
    " '''\n",
    "def metodoNewton(funcion, aproximacion, iteraciones):\n",
    "    x = sp.symbols('x')\n",
    "\n",
    "    f= sp.sympify(funcion)\n",
    "    fprima = sp.diff(f,x)\n",
    "\n",
    "    x_n = int(aproximacion)\n",
    "    x_nmas1 = 0 \n",
    "    \n",
    "\n",
    "    ## paso iterativo\n",
    "    for i in range (int(iteraciones)):\n",
    "        f_n = f.subs(x,x_n)\n",
    "        fprima_n = fprima.subs(x,x_n)\n",
    "        \n",
    "        x_nmas1 = x_n -(f_n.evalf(100) / fprima_n.evalf(100))\n",
    "\n",
    "        print(f\"Iteracion: {i+1}  x_{i+1} = {x_nmas1}\")\n",
    "\n",
    "        x_n = x_nmas1"
   ]
  },
  {
   "cell_type": "code",
   "execution_count": null,
   "metadata": {},
   "outputs": [],
   "source": [
    "'''Método de la Secante\n",
    "    Recibe un string que es la función, una aproximacion 1 que es un entero,\n",
    "    una aproximación 2 que es un entero,  y  un numero de iteraciones que es un entero\n",
    " '''\n",
    "def metodoSecante(funcion, aproximacion_x_cero, aproximacion_x_uno, iteraciones):\n",
    "    x = sp.symbols('x')\n",
    "\n",
    "    f = sp.sympify(funcion) \n",
    "\n",
    "    x_nmenos1 = int(aproximacion_x_cero)\n",
    "    x_n = int(aproximacion_x_uno)\n",
    "    x_nmas1 = 0\n",
    "\n",
    "    for i in range(int(iteraciones)):\n",
    "         f_n = f.subs(x,x_n)\n",
    "         f_nmenos1 = f.subs(x,x_nmenos1)\n",
    "\n",
    "         x_nmas1 = x_n - (((x_n - x_nmenos1)* f_n.evalf(100)) / (f_n.evalf(100) - f_nmenos1.evalf(100) ))\n",
    "\n",
    "         print(f\"Iteracion: {i+1}  x_{i+2} = {x_nmas1}\")\n",
    "         \n",
    "         x_nmenos1 = x_n\n",
    "         x_n = x_nmas1\n",
    "\n",
    "\n",
    "    "
   ]
  },
  {
   "cell_type": "code",
   "execution_count": null,
   "metadata": {},
   "outputs": [],
   "source": [
    "'''Logica del programa ( Main )\n",
    "'''\n",
    "intInputMenu1 = menu1()\n",
    "if intInputMenu1 == 1:\n",
    "    intInputMenuNewton = menuNewton()\n",
    "    if intInputMenuNewton == 1:\n",
    "        strInputMenuEjemplosNewton = menuEjemplosNewton()\n",
    "        funcion, aproximacion, iteraciones = strInputMenuEjemplosNewton.split(\",\")\n",
    "        metodoNewton(funcion, aproximacion,iteraciones)\n",
    "    elif intInputMenuNewton == 2:\n",
    "        strInputMenuEjemploPropioNewton = menuEjemploPropioNewton()\n",
    "        funcion, aproximacion, iteraciones = strInputMenuEjemploPropioNewton.split(\",\")\n",
    "        metodoNewton(funcion, aproximacion, iteraciones)\n",
    "\n",
    "elif intInputMenu1 == 2:\n",
    "    intInputMenuSecante = menuSecante()\n",
    "    if intInputMenuSecante == 1 :\n",
    "        strInputMenuEjemplosSecante = menuEjemplosSecante()\n",
    "        funcion, aproximacion_1, aproximacion_2, iteraciones = strInputMenuEjemplosSecante.split(',')\n",
    "        metodoSecante(funcion, aproximacion_1, aproximacion_2, iteraciones)\n",
    "    elif intInputMenuSecante == 2 :\n",
    "        strInputMenuEjemploPropioSecante = menuEjemploPropioSecante()\n",
    "        funcion, aproximacion_1, aproximacion_2, iteraciones = strInputMenuEjemploPropioSecante.split(',')\n",
    "        metodoSecante(funcion, aproximacion_1, aproximacion_2, iteraciones)\n"
   ]
  }
 ],
 "metadata": {
  "kernelspec": {
   "display_name": "Python 3.11.5 ('metodosNumericos')",
   "language": "python",
   "name": "python3"
  },
  "language_info": {
   "codemirror_mode": {
    "name": "ipython",
    "version": 3
   },
   "file_extension": ".py",
   "mimetype": "text/x-python",
   "name": "python",
   "nbconvert_exporter": "python",
   "pygments_lexer": "ipython3",
   "version": "3.11.5"
  },
  "orig_nbformat": 4,
  "vscode": {
   "interpreter": {
    "hash": "70f21157dfb9bdb93b9a56176df5ae554353c3dbbb1f00dc09d3a373f9b6b7f9"
   }
  }
 },
 "nbformat": 4,
 "nbformat_minor": 2
}
